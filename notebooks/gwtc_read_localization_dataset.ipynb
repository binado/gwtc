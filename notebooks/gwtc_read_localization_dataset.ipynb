{
 "cells": [
  {
   "cell_type": "markdown",
   "id": "f4f88364-d80a-4eb9-82d8-b0535f6c58d9",
   "metadata": {},
   "source": [
    "# Reading GWTC localization data"
   ]
  },
  {
   "cell_type": "code",
   "execution_count": null,
   "id": "4cabbb1a-6cce-4834-8b3e-b0fc3bc628f7",
   "metadata": {},
   "outputs": [],
   "source": [
    "import h5py\n",
    "import pandas as pd\n",
    "import numpy as np"
   ]
  },
  {
   "cell_type": "code",
   "execution_count": null,
   "id": "e96fbe3f-9047-4d92-8e47-3ad90fd6ebb4",
   "metadata": {},
   "outputs": [],
   "source": [
    "!ls .."
   ]
  },
  {
   "cell_type": "code",
   "execution_count": null,
   "id": "95536afc-8810-43f0-8e81-061132b65a73",
   "metadata": {},
   "outputs": [],
   "source": [
    "path_to_localization_file = \"../gwtc-localization-samples-best-localized-analysis=Mixed.hdf5\""
   ]
  },
  {
   "cell_type": "code",
   "execution_count": null,
   "id": "88c84de7-3920-460c-a765-b1e5062c0f18",
   "metadata": {},
   "outputs": [],
   "source": [
    "localization_file = h5py.File(path_to_localization_file)\n",
    "localization_file"
   ]
  },
  {
   "cell_type": "code",
   "execution_count": null,
   "id": "29fac8a1-97a6-412a-ac51-f3ea290d8351",
   "metadata": {},
   "outputs": [],
   "source": [
    "gravitational_wave_event_list = list(localization_file.keys())\n",
    "events = pd.Index(gravitational_wave_events).sort_values()\n",
    "events"
   ]
  },
  {
   "cell_type": "markdown",
   "id": "221d5d4b-022c-4575-9963-38c8c81a3953",
   "metadata": {},
   "source": [
    "Each event is a group in the HDF5 file, containing the posterior samples for the luminosity distance $D_L$ (Mpc) as well as the sky location of the source - its right ascension $\\alpha$ (rad) and declination $\\delta$ (rad) in the geocentric frame. Let us use as example GW150914:"
   ]
  },
  {
   "cell_type": "code",
   "execution_count": null,
   "id": "757869d1-dbaa-4b08-bc17-235199d8f842",
   "metadata": {},
   "outputs": [],
   "source": [
    "gw150914 = events[0]\n",
    "localization_file[gw150914].keys()"
   ]
  },
  {
   "cell_type": "code",
   "execution_count": null,
   "id": "c78548b7-7fd7-4428-aa8e-fc03ac267a31",
   "metadata": {},
   "outputs": [],
   "source": [
    "def get_event_samples(file: h5py.File, event: str) -> dict[str, np.ndarray]:\n",
    "    return {k: v[()] for k,v in file[event].items()}\n",
    "\n",
    "gw150914_samples = get_event_samples(localization_file, gw150914)\n",
    "pd.DataFrame(gw150914_samples) # pretty print"
   ]
  },
  {
   "cell_type": "markdown",
   "id": "f1663b37-ddca-4fc0-a5d2-af4f8cc2f993",
   "metadata": {},
   "source": [
    "In addition, we also have information of the 90% credible area in the sky where each event is localized, given in square degrees:"
   ]
  },
  {
   "cell_type": "code",
   "execution_count": null,
   "id": "32ee7d2a-3ad6-473f-8ad5-40eccc07dd94",
   "metadata": {},
   "outputs": [],
   "source": [
    "for k, v in localization_file[gw150914].attrs.items():\n",
    "    print(f\"{k}: {v}\")"
   ]
  },
  {
   "cell_type": "code",
   "execution_count": null,
   "id": "4943f75b-c896-4802-b7bd-f4b5138aa13c",
   "metadata": {},
   "outputs": [],
   "source": [
    "def get_sky_localization_area_per_event(file: h5py.File, sky_localization_area_label: str = \"confidence_area_90\") -> pd.Series:\n",
    "    index = pd.Index(file.keys())\n",
    "    data = [file[event].attrs[sky_localization_area_label] for event in index]\n",
    "    return pd.Series(data=data, index=index)\n",
    "\n",
    "localization_areas = get_sky_localization_area_per_event(localization_file)\n",
    "localization_areas.sort_values()"
   ]
  }
 ],
 "metadata": {},
 "nbformat": 4,
 "nbformat_minor": 5
}
